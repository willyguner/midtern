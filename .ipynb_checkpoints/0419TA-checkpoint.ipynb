{
 "cells": [
  {
   "cell_type": "code",
   "execution_count": 1,
   "metadata": {},
   "outputs": [
    {
     "name": "stdout",
     "output_type": "stream",
     "text": [
      "env: KERAS_BACKEND=tensorflow\n"
     ]
    }
   ],
   "source": [
    "%env KERAS_BACKEND=tensorflow"
   ]
  },
  {
   "cell_type": "code",
   "execution_count": 2,
   "metadata": {},
   "outputs": [],
   "source": [
    "%matplotlib inline\n",
    "import numpy as np\n",
    "import matplotlib.pyplot as plt"
   ]
  },
  {
   "cell_type": "code",
   "execution_count": 3,
   "metadata": {},
   "outputs": [
    {
     "name": "stderr",
     "output_type": "stream",
     "text": [
      "C:\\Users\\w8462\\Anaconda3\\lib\\site-packages\\h5py\\__init__.py:36: FutureWarning: Conversion of the second argument of issubdtype from `float` to `np.floating` is deprecated. In future, it will be treated as `np.float64 == np.dtype(float).type`.\n",
      "  from ._conv import register_converters as _register_converters\n",
      "Using TensorFlow backend.\n"
     ]
    }
   ],
   "source": [
    "from keras.datasets import mnist"
   ]
  },
  {
   "cell_type": "code",
   "execution_count": 4,
   "metadata": {},
   "outputs": [],
   "source": [
    "(x_train,y_train),(x_test,y_test)=mnist.load_data()"
   ]
  },
  {
   "cell_type": "code",
   "execution_count": 5,
   "metadata": {},
   "outputs": [],
   "source": [
    "x_train=x_train.reshape(60000,784)\n",
    "x_test=x_test.reshape(10000,784)"
   ]
  },
  {
   "cell_type": "code",
   "execution_count": 6,
   "metadata": {},
   "outputs": [],
   "source": [
    "from keras.utils import np_utils"
   ]
  },
  {
   "cell_type": "code",
   "execution_count": 7,
   "metadata": {},
   "outputs": [],
   "source": [
    "y_train=np_utils.to_categorical(y_train,10)\n",
    "y_test=np_utils.to_categorical(y_test,10)"
   ]
  },
  {
   "cell_type": "code",
   "execution_count": 8,
   "metadata": {},
   "outputs": [],
   "source": [
    "from keras.models import Sequential\n",
    "from keras.layers import Dense,Activation\n",
    "from keras.optimizers import SGD"
   ]
  },
  {
   "cell_type": "markdown",
   "metadata": {},
   "source": [
    "# 正規化"
   ]
  },
  {
   "cell_type": "code",
   "execution_count": 9,
   "metadata": {},
   "outputs": [],
   "source": [
    "x_train_std=x_train/x_train.max()\n",
    "x_test_std=x_test/x_test.max()"
   ]
  },
  {
   "cell_type": "code",
   "execution_count": 10,
   "metadata": {},
   "outputs": [],
   "source": [
    "model=Sequential()\n",
    "model.add(Dense(4,input_dim=784))\n",
    "model.add(Activation('sigmoid'))\n",
    "model.add(Dense(2))\n",
    "model.add(Activation('sigmoid'))\n",
    "model.add(Dense(10))\n",
    "model.add(Activation('softmax'))"
   ]
  },
  {
   "cell_type": "code",
   "execution_count": 11,
   "metadata": {},
   "outputs": [],
   "source": [
    "model.compile(loss='mse',optimizer=SGD(lr=0.087),metrics=['accuracy'])"
   ]
  },
  {
   "cell_type": "code",
   "execution_count": 12,
   "metadata": {},
   "outputs": [
    {
     "name": "stdout",
     "output_type": "stream",
     "text": [
      "_________________________________________________________________\n",
      "Layer (type)                 Output Shape              Param #   \n",
      "=================================================================\n",
      "dense_1 (Dense)              (None, 4)                 3140      \n",
      "_________________________________________________________________\n",
      "activation_1 (Activation)    (None, 4)                 0         \n",
      "_________________________________________________________________\n",
      "dense_2 (Dense)              (None, 2)                 10        \n",
      "_________________________________________________________________\n",
      "activation_2 (Activation)    (None, 2)                 0         \n",
      "_________________________________________________________________\n",
      "dense_3 (Dense)              (None, 10)                30        \n",
      "_________________________________________________________________\n",
      "activation_3 (Activation)    (None, 10)                0         \n",
      "=================================================================\n",
      "Total params: 3,180\n",
      "Trainable params: 3,180\n",
      "Non-trainable params: 0\n",
      "_________________________________________________________________\n"
     ]
    }
   ],
   "source": [
    "model.summary()"
   ]
  },
  {
   "cell_type": "code",
   "execution_count": 13,
   "metadata": {},
   "outputs": [
    {
     "name": "stdout",
     "output_type": "stream",
     "text": [
      "Train on 60000 samples, validate on 10000 samples\n",
      "Epoch 1/20\n",
      "60000/60000 [==============================] - 6s 93us/step - loss: 0.0907 - acc: 0.0991 - val_loss: 0.0905 - val_acc: 0.1009\n",
      "Epoch 2/20\n",
      "60000/60000 [==============================] - 4s 75us/step - loss: 0.0904 - acc: 0.0992 - val_loss: 0.0903 - val_acc: 0.1009\n",
      "Epoch 3/20\n",
      "60000/60000 [==============================] - 5s 84us/step - loss: 0.0902 - acc: 0.0975 - val_loss: 0.0901 - val_acc: 0.0923\n",
      "Epoch 4/20\n",
      "60000/60000 [==============================] - 6s 92us/step - loss: 0.0901 - acc: 0.0970 - val_loss: 0.0900 - val_acc: 0.1043\n",
      "Epoch 5/20\n",
      "60000/60000 [==============================] - 5s 86us/step - loss: 0.0900 - acc: 0.1156 - val_loss: 0.0899 - val_acc: 0.1277\n",
      "Epoch 6/20\n",
      "60000/60000 [==============================] - 6s 94us/step - loss: 0.0899 - acc: 0.1231 - val_loss: 0.0899 - val_acc: 0.1209\n",
      "Epoch 7/20\n",
      "60000/60000 [==============================] - 6s 92us/step - loss: 0.0899 - acc: 0.1244 - val_loss: 0.0898 - val_acc: 0.1410\n",
      "Epoch 8/20\n",
      "60000/60000 [==============================] - 6s 93us/step - loss: 0.0898 - acc: 0.1629 - val_loss: 0.0898 - val_acc: 0.1761\n",
      "Epoch 9/20\n",
      "60000/60000 [==============================] - 5s 83us/step - loss: 0.0898 - acc: 0.1712 - val_loss: 0.0897 - val_acc: 0.1748\n",
      "Epoch 10/20\n",
      "60000/60000 [==============================] - 6s 92us/step - loss: 0.0897 - acc: 0.1705 - val_loss: 0.0897 - val_acc: 0.1723\n",
      "Epoch 11/20\n",
      "60000/60000 [==============================] - 3s 57us/step - loss: 0.0897 - acc: 0.1691 - val_loss: 0.0897 - val_acc: 0.1745\n",
      "Epoch 12/20\n",
      "60000/60000 [==============================] - 3s 56us/step - loss: 0.0897 - acc: 0.1742 - val_loss: 0.0896 - val_acc: 0.1767\n",
      "Epoch 13/20\n",
      "60000/60000 [==============================] - 3s 55us/step - loss: 0.0896 - acc: 0.1761 - val_loss: 0.0896 - val_acc: 0.1770\n",
      "Epoch 14/20\n",
      "60000/60000 [==============================] - 3s 50us/step - loss: 0.0896 - acc: 0.1755 - val_loss: 0.0896 - val_acc: 0.1775\n",
      "Epoch 15/20\n",
      "60000/60000 [==============================] - 3s 42us/step - loss: 0.0896 - acc: 0.1725 - val_loss: 0.0896 - val_acc: 0.1779\n",
      "Epoch 16/20\n",
      "60000/60000 [==============================] - 2s 41us/step - loss: 0.0895 - acc: 0.1749 - val_loss: 0.0895 - val_acc: 0.1783\n",
      "Epoch 17/20\n",
      "60000/60000 [==============================] - 2s 41us/step - loss: 0.0895 - acc: 0.1741 - val_loss: 0.0895 - val_acc: 0.1805\n",
      "Epoch 18/20\n",
      "60000/60000 [==============================] - 3s 43us/step - loss: 0.0895 - acc: 0.1806 - val_loss: 0.0895 - val_acc: 0.1823\n",
      "Epoch 19/20\n",
      "60000/60000 [==============================] - 2s 42us/step - loss: 0.0894 - acc: 0.1834 - val_loss: 0.0894 - val_acc: 0.1856\n",
      "Epoch 20/20\n",
      "60000/60000 [==============================] - 3s 45us/step - loss: 0.0894 - acc: 0.1859 - val_loss: 0.0894 - val_acc: 0.1895\n"
     ]
    },
    {
     "data": {
      "text/plain": [
       "<keras.callbacks.History at 0x265592ef588>"
      ]
     },
     "execution_count": 13,
     "metadata": {},
     "output_type": "execute_result"
    }
   ],
   "source": [
    "model.fit(x_train_std,y_train,batch_size=100,epochs=20,verbose=1,validation_data=(x_test_std,y_test))"
   ]
  },
  {
   "cell_type": "code",
   "execution_count": null,
   "metadata": {},
   "outputs": [],
   "source": []
  }
 ],
 "metadata": {
  "kernelspec": {
   "display_name": "Python 3",
   "language": "python",
   "name": "python3"
  },
  "language_info": {
   "codemirror_mode": {
    "name": "ipython",
    "version": 3
   },
   "file_extension": ".py",
   "mimetype": "text/x-python",
   "name": "python",
   "nbconvert_exporter": "python",
   "pygments_lexer": "ipython3",
   "version": "3.6.5"
  }
 },
 "nbformat": 4,
 "nbformat_minor": 2
}
