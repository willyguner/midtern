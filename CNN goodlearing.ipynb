{
 "cells": [
  {
   "cell_type": "code",
   "execution_count": 1,
   "metadata": {},
   "outputs": [
    {
     "name": "stdout",
     "output_type": "stream",
     "text": [
      "env: KERAS_BACKEND=tensorflow\n"
     ]
    }
   ],
   "source": [
    "%env KERAS_BACKEND=tensorflow"
   ]
  },
  {
   "cell_type": "code",
   "execution_count": 2,
   "metadata": {},
   "outputs": [],
   "source": [
    "%matplotlib inline\n",
    "import numpy as np\n",
    "import matplotlib.pyplot as plt"
   ]
  },
  {
   "cell_type": "code",
   "execution_count": 3,
   "metadata": {},
   "outputs": [
    {
     "name": "stderr",
     "output_type": "stream",
     "text": [
      "C:\\Users\\w8462\\Anaconda3\\lib\\site-packages\\h5py\\__init__.py:36: FutureWarning: Conversion of the second argument of issubdtype from `float` to `np.floating` is deprecated. In future, it will be treated as `np.float64 == np.dtype(float).type`.\n",
      "  from ._conv import register_converters as _register_converters\n",
      "Using TensorFlow backend.\n"
     ]
    }
   ],
   "source": [
    "from keras.datasets import mnist"
   ]
  },
  {
   "cell_type": "code",
   "execution_count": 4,
   "metadata": {},
   "outputs": [],
   "source": [
    "(x_train,y_train),(x_test,y_test)=mnist.load_data()"
   ]
  },
  {
   "cell_type": "code",
   "execution_count": 5,
   "metadata": {},
   "outputs": [],
   "source": [
    "x_train=x_train.reshape(60000,28,28,1)\n",
    "x_test=x_test.reshape(10000,28,28,1)"
   ]
  },
  {
   "cell_type": "code",
   "execution_count": 6,
   "metadata": {},
   "outputs": [],
   "source": [
    "from keras.utils import np_utils"
   ]
  },
  {
   "cell_type": "code",
   "execution_count": 7,
   "metadata": {},
   "outputs": [],
   "source": [
    "y_train=np_utils.to_categorical(y_train,10)\n",
    "y_test=np_utils.to_categorical(y_test,10)"
   ]
  },
  {
   "cell_type": "code",
   "execution_count": 8,
   "metadata": {},
   "outputs": [],
   "source": [
    "x_train=x_train/255\n",
    "x_test=x_test/255"
   ]
  },
  {
   "cell_type": "code",
   "execution_count": 9,
   "metadata": {},
   "outputs": [],
   "source": [
    "from keras.models import Model\n",
    "from keras.layers import Dense,Activation,Input,Flatten\n",
    "from keras.layers import Conv2D,MaxPool2D\n",
    "from keras.optimizers import SGD,Adam,Adadelta"
   ]
  },
  {
   "cell_type": "markdown",
   "metadata": {},
   "source": [
    "# 先將上課所設的模型建立出來"
   ]
  },
  {
   "cell_type": "code",
   "execution_count": 10,
   "metadata": {},
   "outputs": [],
   "source": [
    "f_1=Conv2D(4,(5,5),padding='same',activation='relu')\n",
    "p_1=MaxPool2D(pool_size=(2,2))\n",
    "f_2=Conv2D(8,(5,5),padding='same',activation='relu')\n",
    "p_2=MaxPool2D(pool_size=(2,2))\n",
    "f_3=Conv2D(16,(5,5),padding='same',activation='relu')\n",
    "p_3=MaxPool2D(pool_size=(2,2))\n",
    "flat=Flatten()\n",
    "d_1=Dense((9),activation='relu')\n",
    "d_2=Dense((10),activation='softmax')\n"
   ]
  },
  {
   "cell_type": "code",
   "execution_count": 11,
   "metadata": {},
   "outputs": [],
   "source": [
    "x=Input(shape=(28,28,1))\n",
    "h_1=f_1(x)\n",
    "h_2=p_1(h_1)\n",
    "h_3=f_2(h_2)\n",
    "h_4=p_2(h_3)\n",
    "h_5=f_3(h_4)\n",
    "h_6=p_3(h_5)\n",
    "h_7=flat(h_6)\n",
    "h_8=d_1(h_7)\n",
    "y=d_2(h_8)"
   ]
  },
  {
   "cell_type": "code",
   "execution_count": 12,
   "metadata": {},
   "outputs": [],
   "source": [
    "model=Model(x,y)"
   ]
  },
  {
   "cell_type": "code",
   "execution_count": 13,
   "metadata": {},
   "outputs": [
    {
     "name": "stdout",
     "output_type": "stream",
     "text": [
      "_________________________________________________________________\n",
      "Layer (type)                 Output Shape              Param #   \n",
      "=================================================================\n",
      "input_1 (InputLayer)         (None, 28, 28, 1)         0         \n",
      "_________________________________________________________________\n",
      "conv2d_1 (Conv2D)            (None, 28, 28, 4)         104       \n",
      "_________________________________________________________________\n",
      "max_pooling2d_1 (MaxPooling2 (None, 14, 14, 4)         0         \n",
      "_________________________________________________________________\n",
      "conv2d_2 (Conv2D)            (None, 14, 14, 8)         808       \n",
      "_________________________________________________________________\n",
      "max_pooling2d_2 (MaxPooling2 (None, 7, 7, 8)           0         \n",
      "_________________________________________________________________\n",
      "conv2d_3 (Conv2D)            (None, 7, 7, 16)          3216      \n",
      "_________________________________________________________________\n",
      "max_pooling2d_3 (MaxPooling2 (None, 3, 3, 16)          0         \n",
      "_________________________________________________________________\n",
      "flatten_1 (Flatten)          (None, 144)               0         \n",
      "_________________________________________________________________\n",
      "dense_1 (Dense)              (None, 9)                 1305      \n",
      "_________________________________________________________________\n",
      "dense_2 (Dense)              (None, 10)                100       \n",
      "=================================================================\n",
      "Total params: 5,533\n",
      "Trainable params: 5,533\n",
      "Non-trainable params: 0\n",
      "_________________________________________________________________\n"
     ]
    }
   ],
   "source": [
    "#確認所設模型無誤\n",
    "model.summary()"
   ]
  },
  {
   "cell_type": "markdown",
   "metadata": {},
   "source": [
    "## 由於已知資料為手寫辨識，故將原本的Loss Function 由'mse'改為'categorical_crossentropy'"
   ]
  },
  {
   "cell_type": "code",
   "execution_count": 14,
   "metadata": {},
   "outputs": [],
   "source": [
    "model.compile(loss='categorical_crossentropy',optimizer=SGD(lr=0.07),metrics=['accuracy'])"
   ]
  },
  {
   "cell_type": "code",
   "execution_count": 15,
   "metadata": {},
   "outputs": [
    {
     "name": "stdout",
     "output_type": "stream",
     "text": [
      "Train on 60000 samples, validate on 10000 samples\n",
      "Epoch 1/20\n",
      "60000/60000 [==============================] - 7s 114us/step - loss: 0.5621 - acc: 0.8116 - val_loss: 0.1435 - val_acc: 0.9543\n",
      "Epoch 2/20\n",
      "60000/60000 [==============================] - 4s 60us/step - loss: 0.1305 - acc: 0.9604 - val_loss: 0.0895 - val_acc: 0.9712\n",
      "Epoch 3/20\n",
      "60000/60000 [==============================] - 3s 57us/step - loss: 0.0886 - acc: 0.9728 - val_loss: 0.0699 - val_acc: 0.9792\n",
      "Epoch 4/20\n",
      "60000/60000 [==============================] - 4s 62us/step - loss: 0.0739 - acc: 0.9769 - val_loss: 0.0612 - val_acc: 0.9812\n",
      "Epoch 5/20\n",
      "60000/60000 [==============================] - 4s 60us/step - loss: 0.0627 - acc: 0.9803 - val_loss: 0.0626 - val_acc: 0.9806\n",
      "Epoch 6/20\n",
      "60000/60000 [==============================] - 4s 71us/step - loss: 0.0548 - acc: 0.9828 - val_loss: 0.0515 - val_acc: 0.9842\n",
      "Epoch 7/20\n",
      "60000/60000 [==============================] - 4s 70us/step - loss: 0.0485 - acc: 0.9848 - val_loss: 0.0471 - val_acc: 0.9839\n",
      "Epoch 8/20\n",
      "60000/60000 [==============================] - 4s 67us/step - loss: 0.0458 - acc: 0.9850 - val_loss: 0.0456 - val_acc: 0.9853\n",
      "Epoch 9/20\n",
      "60000/60000 [==============================] - 4s 68us/step - loss: 0.0426 - acc: 0.9861 - val_loss: 0.0476 - val_acc: 0.9840\n",
      "Epoch 10/20\n",
      "60000/60000 [==============================] - 4s 62us/step - loss: 0.0384 - acc: 0.9878 - val_loss: 0.0496 - val_acc: 0.9843\n",
      "Epoch 11/20\n",
      "60000/60000 [==============================] - 4s 59us/step - loss: 0.0356 - acc: 0.9885 - val_loss: 0.0517 - val_acc: 0.9849\n",
      "Epoch 12/20\n",
      "60000/60000 [==============================] - 4s 59us/step - loss: 0.0325 - acc: 0.9895 - val_loss: 0.0551 - val_acc: 0.9834\n",
      "Epoch 13/20\n",
      "60000/60000 [==============================] - 4s 59us/step - loss: 0.0312 - acc: 0.9900 - val_loss: 0.0456 - val_acc: 0.9863\n",
      "Epoch 14/20\n",
      "60000/60000 [==============================] - 4s 59us/step - loss: 0.0292 - acc: 0.9906 - val_loss: 0.0410 - val_acc: 0.9871\n",
      "Epoch 15/20\n",
      "60000/60000 [==============================] - 4s 59us/step - loss: 0.0283 - acc: 0.9909 - val_loss: 0.0560 - val_acc: 0.9827\n",
      "Epoch 16/20\n",
      "60000/60000 [==============================] - 4s 59us/step - loss: 0.0267 - acc: 0.9917 - val_loss: 0.0568 - val_acc: 0.9831\n",
      "Epoch 17/20\n",
      "60000/60000 [==============================] - 4s 59us/step - loss: 0.0246 - acc: 0.9917 - val_loss: 0.0402 - val_acc: 0.9878\n",
      "Epoch 18/20\n",
      "60000/60000 [==============================] - 4s 59us/step - loss: 0.0235 - acc: 0.9921 - val_loss: 0.0406 - val_acc: 0.9871\n",
      "Epoch 19/20\n",
      "60000/60000 [==============================] - 4s 59us/step - loss: 0.0238 - acc: 0.9919 - val_loss: 0.0483 - val_acc: 0.9858\n",
      "Epoch 20/20\n",
      "60000/60000 [==============================] - 4s 59us/step - loss: 0.0217 - acc: 0.9928 - val_loss: 0.0443 - val_acc: 0.9857\n"
     ]
    },
    {
     "data": {
      "text/plain": [
       "<keras.callbacks.History at 0x201f1285b38>"
      ]
     },
     "execution_count": 15,
     "metadata": {},
     "output_type": "execute_result"
    }
   ],
   "source": [
    "model.fit(x_train, y_train, batch_size=100, epochs=20,verbose=1,validation_data=(x_test,y_test))"
   ]
  },
  {
   "cell_type": "markdown",
   "metadata": {},
   "source": [
    "## 小結\n",
    "可以看到光改Loss Function而已，辨識率就已經達到幾乎100%了"
   ]
  },
  {
   "cell_type": "markdown",
   "metadata": {},
   "source": [
    "## 重新做一個模型，這次將optimizer改為Adadelta及Adam"
   ]
  },
  {
   "cell_type": "code",
   "execution_count": 16,
   "metadata": {},
   "outputs": [],
   "source": [
    "f_1_1=Conv2D(4,(5,5),padding='same',activation='relu')\n",
    "p_1_1=MaxPool2D(pool_size=(2,2))\n",
    "f_2_1=Conv2D(8,(5,5),padding='same',activation='relu')\n",
    "p_2_1=MaxPool2D(pool_size=(2,2))\n",
    "f_3_1=Conv2D(16,(5,5),padding='same',activation='relu')\n",
    "p_3_1=MaxPool2D(pool_size=(2,2))\n",
    "flat_1=Flatten()\n",
    "d_1_1=Dense((9),activation='relu')\n",
    "d_2_1=Dense((10),activation='softmax')"
   ]
  },
  {
   "cell_type": "code",
   "execution_count": 17,
   "metadata": {},
   "outputs": [],
   "source": [
    "x2=Input(shape=(28,28,1))\n",
    "h_1_1=f_1_1(x2)\n",
    "h_2_1=p_1_1(h_1_1)\n",
    "h_3_1=f_2_1(h_2_1)\n",
    "h_4_1=p_2_1(h_3_1)\n",
    "h_5_1=f_3_1(h_4_1)\n",
    "h_6_1=p_3_1(h_5_1)\n",
    "h_7_1=flat_1(h_6_1)\n",
    "h_8_1=d_1_1(h_7_1)\n",
    "y2=d_2_1(h_8_1)\n",
    "model2=Model(x2,y2)"
   ]
  },
  {
   "cell_type": "code",
   "execution_count": 18,
   "metadata": {},
   "outputs": [
    {
     "name": "stdout",
     "output_type": "stream",
     "text": [
      "_________________________________________________________________\n",
      "Layer (type)                 Output Shape              Param #   \n",
      "=================================================================\n",
      "input_2 (InputLayer)         (None, 28, 28, 1)         0         \n",
      "_________________________________________________________________\n",
      "conv2d_4 (Conv2D)            (None, 28, 28, 4)         104       \n",
      "_________________________________________________________________\n",
      "max_pooling2d_4 (MaxPooling2 (None, 14, 14, 4)         0         \n",
      "_________________________________________________________________\n",
      "conv2d_5 (Conv2D)            (None, 14, 14, 8)         808       \n",
      "_________________________________________________________________\n",
      "max_pooling2d_5 (MaxPooling2 (None, 7, 7, 8)           0         \n",
      "_________________________________________________________________\n",
      "conv2d_6 (Conv2D)            (None, 7, 7, 16)          3216      \n",
      "_________________________________________________________________\n",
      "max_pooling2d_6 (MaxPooling2 (None, 3, 3, 16)          0         \n",
      "_________________________________________________________________\n",
      "flatten_2 (Flatten)          (None, 144)               0         \n",
      "_________________________________________________________________\n",
      "dense_3 (Dense)              (None, 9)                 1305      \n",
      "_________________________________________________________________\n",
      "dense_4 (Dense)              (None, 10)                100       \n",
      "=================================================================\n",
      "Total params: 5,533\n",
      "Trainable params: 5,533\n",
      "Non-trainable params: 0\n",
      "_________________________________________________________________\n"
     ]
    }
   ],
   "source": [
    "model2.summary()"
   ]
  },
  {
   "cell_type": "code",
   "execution_count": 19,
   "metadata": {},
   "outputs": [],
   "source": [
    "model2.compile(loss='categorical_crossentropy',optimizer=Adadelta(),metrics=['accuracy'])"
   ]
  },
  {
   "cell_type": "code",
   "execution_count": 20,
   "metadata": {},
   "outputs": [
    {
     "name": "stdout",
     "output_type": "stream",
     "text": [
      "Train on 60000 samples, validate on 10000 samples\n",
      "Epoch 1/20\n",
      "60000/60000 [==============================] - 4s 71us/step - loss: 0.4143 - acc: 0.8666 - val_loss: 0.1354 - val_acc: 0.9560\n",
      "Epoch 2/20\n",
      "60000/60000 [==============================] - 4s 72us/step - loss: 0.1122 - acc: 0.9662 - val_loss: 0.0929 - val_acc: 0.9713\n",
      "Epoch 3/20\n",
      "60000/60000 [==============================] - 4s 71us/step - loss: 0.0859 - acc: 0.9736 - val_loss: 0.0670 - val_acc: 0.9793\n",
      "Epoch 4/20\n",
      "60000/60000 [==============================] - 4s 66us/step - loss: 0.0712 - acc: 0.9782 - val_loss: 0.0600 - val_acc: 0.9809\n",
      "Epoch 5/20\n",
      "60000/60000 [==============================] - 4s 67us/step - loss: 0.0618 - acc: 0.9806 - val_loss: 0.0621 - val_acc: 0.9810\n",
      "Epoch 6/20\n",
      "60000/60000 [==============================] - 4s 66us/step - loss: 0.0546 - acc: 0.9830 - val_loss: 0.0561 - val_acc: 0.9839\n",
      "Epoch 7/20\n",
      "60000/60000 [==============================] - 4s 65us/step - loss: 0.0495 - acc: 0.9844 - val_loss: 0.0553 - val_acc: 0.9816\n",
      "Epoch 8/20\n",
      "60000/60000 [==============================] - 4s 65us/step - loss: 0.0440 - acc: 0.9861 - val_loss: 0.0518 - val_acc: 0.9836\n",
      "Epoch 9/20\n",
      "60000/60000 [==============================] - 4s 72us/step - loss: 0.0409 - acc: 0.9872 - val_loss: 0.0469 - val_acc: 0.9851\n",
      "Epoch 10/20\n",
      "60000/60000 [==============================] - 4s 66us/step - loss: 0.0379 - acc: 0.9877 - val_loss: 0.0516 - val_acc: 0.9845\n",
      "Epoch 11/20\n",
      "60000/60000 [==============================] - 4s 66us/step - loss: 0.0354 - acc: 0.9883 - val_loss: 0.0451 - val_acc: 0.9856\n",
      "Epoch 12/20\n",
      "60000/60000 [==============================] - 4s 66us/step - loss: 0.0324 - acc: 0.9894 - val_loss: 0.0480 - val_acc: 0.9858\n",
      "Epoch 13/20\n",
      "60000/60000 [==============================] - 4s 65us/step - loss: 0.0306 - acc: 0.9897 - val_loss: 0.0604 - val_acc: 0.9823\n",
      "Epoch 14/20\n",
      "60000/60000 [==============================] - 4s 65us/step - loss: 0.0285 - acc: 0.9910 - val_loss: 0.0534 - val_acc: 0.9841\n",
      "Epoch 15/20\n",
      "60000/60000 [==============================] - 4s 65us/step - loss: 0.0264 - acc: 0.9913 - val_loss: 0.0485 - val_acc: 0.9850\n",
      "Epoch 16/20\n",
      "60000/60000 [==============================] - 4s 66us/step - loss: 0.0246 - acc: 0.9920 - val_loss: 0.0493 - val_acc: 0.9853\n",
      "Epoch 17/20\n",
      "60000/60000 [==============================] - 4s 67us/step - loss: 0.0234 - acc: 0.9922 - val_loss: 0.0453 - val_acc: 0.9863\n",
      "Epoch 18/20\n",
      "60000/60000 [==============================] - 4s 66us/step - loss: 0.0220 - acc: 0.9927 - val_loss: 0.0501 - val_acc: 0.9863\n",
      "Epoch 19/20\n",
      "60000/60000 [==============================] - 4s 68us/step - loss: 0.0208 - acc: 0.9932 - val_loss: 0.0465 - val_acc: 0.9864\n",
      "Epoch 20/20\n",
      "60000/60000 [==============================] - 4s 65us/step - loss: 0.0194 - acc: 0.9937 - val_loss: 0.0438 - val_acc: 0.9882\n"
     ]
    },
    {
     "data": {
      "text/plain": [
       "<keras.callbacks.History at 0x201f1650240>"
      ]
     },
     "execution_count": 20,
     "metadata": {},
     "output_type": "execute_result"
    }
   ],
   "source": [
    "model2.fit(x_train, y_train, batch_size=100, epochs=20,verbose=1,validation_data=(x_test,y_test))"
   ]
  },
  {
   "cell_type": "markdown",
   "metadata": {},
   "source": [
    "## 小結\n",
    "使用Adam或Adadelta(皆為預設)，可以看到跟SGD其實差不多，但是仍然沒辦法達到100%"
   ]
  },
  {
   "cell_type": "markdown",
   "metadata": {},
   "source": [
    "## 改變filter大小及將Dense層的Activation改成sigmoid，並提高神經元個數"
   ]
  },
  {
   "cell_type": "code",
   "execution_count": 21,
   "metadata": {},
   "outputs": [],
   "source": [
    "f_1_2=Conv2D(4,(4,4),padding='same',activation='relu')\n",
    "p_1_2=MaxPool2D(pool_size=(2,2))\n",
    "f_2_2=Conv2D(8,(4,4),padding='same',activation='relu')\n",
    "p_2_2=MaxPool2D(pool_size=(2,2))\n",
    "f_3_2=Conv2D(16,(4,4),padding='same',activation='relu')\n",
    "p_3_2=MaxPool2D(pool_size=(2,2))\n",
    "flat_2=Flatten()\n",
    "d_1_2=Dense((200),activation='sigmoid')\n",
    "d_2_2=Dense((10),activation='softmax')"
   ]
  },
  {
   "cell_type": "code",
   "execution_count": 22,
   "metadata": {},
   "outputs": [],
   "source": [
    "x3=Input(shape=(28,28,1))\n",
    "h_1_2=f_1_2(x3)\n",
    "h_2_2=p_1_2(h_1_2)\n",
    "h_3_2=f_2_2(h_2_2)\n",
    "h_4_2=p_2_2(h_3_2)\n",
    "h_5_2=f_3_2(h_4_2)\n",
    "h_6_2=p_3_2(h_5_2)\n",
    "h_7_2=flat_2(h_6_2)\n",
    "h_8_2=d_1_2(h_7_2)\n",
    "y3=d_2_2(h_8_2)\n",
    "model3=Model(x3,y3)"
   ]
  },
  {
   "cell_type": "code",
   "execution_count": 23,
   "metadata": {},
   "outputs": [
    {
     "name": "stdout",
     "output_type": "stream",
     "text": [
      "_________________________________________________________________\n",
      "Layer (type)                 Output Shape              Param #   \n",
      "=================================================================\n",
      "input_3 (InputLayer)         (None, 28, 28, 1)         0         \n",
      "_________________________________________________________________\n",
      "conv2d_7 (Conv2D)            (None, 28, 28, 4)         68        \n",
      "_________________________________________________________________\n",
      "max_pooling2d_7 (MaxPooling2 (None, 14, 14, 4)         0         \n",
      "_________________________________________________________________\n",
      "conv2d_8 (Conv2D)            (None, 14, 14, 8)         520       \n",
      "_________________________________________________________________\n",
      "max_pooling2d_8 (MaxPooling2 (None, 7, 7, 8)           0         \n",
      "_________________________________________________________________\n",
      "conv2d_9 (Conv2D)            (None, 7, 7, 16)          2064      \n",
      "_________________________________________________________________\n",
      "max_pooling2d_9 (MaxPooling2 (None, 3, 3, 16)          0         \n",
      "_________________________________________________________________\n",
      "flatten_3 (Flatten)          (None, 144)               0         \n",
      "_________________________________________________________________\n",
      "dense_5 (Dense)              (None, 200)               29000     \n",
      "_________________________________________________________________\n",
      "dense_6 (Dense)              (None, 10)                2010      \n",
      "=================================================================\n",
      "Total params: 33,662\n",
      "Trainable params: 33,662\n",
      "Non-trainable params: 0\n",
      "_________________________________________________________________\n"
     ]
    }
   ],
   "source": [
    "model3.summary()"
   ]
  },
  {
   "cell_type": "code",
   "execution_count": 24,
   "metadata": {},
   "outputs": [],
   "source": [
    "model3.compile(loss='categorical_crossentropy',optimizer=Adadelta(),metrics=['accuracy'])"
   ]
  },
  {
   "cell_type": "code",
   "execution_count": 25,
   "metadata": {},
   "outputs": [
    {
     "name": "stdout",
     "output_type": "stream",
     "text": [
      "Train on 60000 samples, validate on 10000 samples\n",
      "Epoch 1/50\n",
      "60000/60000 [==============================] - 4s 72us/step - loss: 0.3872 - acc: 0.8741 - val_loss: 0.1099 - val_acc: 0.9663\n",
      "Epoch 2/50\n",
      "60000/60000 [==============================] - 4s 66us/step - loss: 0.0994 - acc: 0.9689 - val_loss: 0.0779 - val_acc: 0.9749\n",
      "Epoch 3/50\n",
      "60000/60000 [==============================] - 4s 67us/step - loss: 0.0740 - acc: 0.9771 - val_loss: 0.0546 - val_acc: 0.9839\n",
      "Epoch 4/50\n",
      "60000/60000 [==============================] - 4s 65us/step - loss: 0.0601 - acc: 0.9813 - val_loss: 0.0568 - val_acc: 0.9807\n",
      "Epoch 5/50\n",
      "60000/60000 [==============================] - 4s 67us/step - loss: 0.0510 - acc: 0.9838 - val_loss: 0.0542 - val_acc: 0.9829\n",
      "Epoch 6/50\n",
      "60000/60000 [==============================] - 4s 65us/step - loss: 0.0435 - acc: 0.9865 - val_loss: 0.0642 - val_acc: 0.9780\n",
      "Epoch 7/50\n",
      "60000/60000 [==============================] - 4s 66us/step - loss: 0.0392 - acc: 0.9873 - val_loss: 0.0420 - val_acc: 0.9857\n",
      "Epoch 8/50\n",
      "60000/60000 [==============================] - 4s 65us/step - loss: 0.0347 - acc: 0.9892 - val_loss: 0.0401 - val_acc: 0.9862\n",
      "Epoch 9/50\n",
      "60000/60000 [==============================] - 4s 66us/step - loss: 0.0299 - acc: 0.9907 - val_loss: 0.0411 - val_acc: 0.9870\n",
      "Epoch 10/50\n",
      "60000/60000 [==============================] - 4s 67us/step - loss: 0.0271 - acc: 0.9916 - val_loss: 0.0348 - val_acc: 0.9879\n",
      "Epoch 11/50\n",
      "60000/60000 [==============================] - 4s 66us/step - loss: 0.0244 - acc: 0.9921 - val_loss: 0.0353 - val_acc: 0.9872\n",
      "Epoch 12/50\n",
      "60000/60000 [==============================] - 4s 66us/step - loss: 0.0218 - acc: 0.9932 - val_loss: 0.0381 - val_acc: 0.9871\n",
      "Epoch 13/50\n",
      "60000/60000 [==============================] - 4s 71us/step - loss: 0.0203 - acc: 0.9936 - val_loss: 0.0352 - val_acc: 0.9882\n",
      "Epoch 14/50\n",
      "60000/60000 [==============================] - 4s 70us/step - loss: 0.0176 - acc: 0.9950 - val_loss: 0.0384 - val_acc: 0.9874\n",
      "Epoch 15/50\n",
      "60000/60000 [==============================] - 4s 68us/step - loss: 0.0160 - acc: 0.9953 - val_loss: 0.0327 - val_acc: 0.9892\n",
      "Epoch 16/50\n",
      "60000/60000 [==============================] - 4s 69us/step - loss: 0.0144 - acc: 0.9959 - val_loss: 0.0322 - val_acc: 0.9892\n",
      "Epoch 17/50\n",
      "60000/60000 [==============================] - 4s 68us/step - loss: 0.0130 - acc: 0.9962 - val_loss: 0.0354 - val_acc: 0.9886\n",
      "Epoch 18/50\n",
      "60000/60000 [==============================] - 4s 68us/step - loss: 0.0117 - acc: 0.9968 - val_loss: 0.0317 - val_acc: 0.9895\n",
      "Epoch 19/50\n",
      "60000/60000 [==============================] - 4s 65us/step - loss: 0.0105 - acc: 0.9972 - val_loss: 0.0334 - val_acc: 0.9890\n",
      "Epoch 20/50\n",
      "60000/60000 [==============================] - 4s 68us/step - loss: 0.0096 - acc: 0.9974 - val_loss: 0.0327 - val_acc: 0.9894\n",
      "Epoch 21/50\n",
      "60000/60000 [==============================] - 4s 66us/step - loss: 0.0087 - acc: 0.9978 - val_loss: 0.0342 - val_acc: 0.9887\n",
      "Epoch 22/50\n",
      "60000/60000 [==============================] - 4s 66us/step - loss: 0.0078 - acc: 0.9980 - val_loss: 0.0313 - val_acc: 0.9897\n",
      "Epoch 23/50\n",
      "60000/60000 [==============================] - 4s 65us/step - loss: 0.0070 - acc: 0.9985 - val_loss: 0.0334 - val_acc: 0.9889\n",
      "Epoch 24/50\n",
      "60000/60000 [==============================] - 4s 66us/step - loss: 0.0063 - acc: 0.9986 - val_loss: 0.0325 - val_acc: 0.9894\n",
      "Epoch 25/50\n",
      "60000/60000 [==============================] - 4s 66us/step - loss: 0.0057 - acc: 0.9987 - val_loss: 0.0328 - val_acc: 0.9897\n",
      "Epoch 26/50\n",
      "60000/60000 [==============================] - 4s 69us/step - loss: 0.0051 - acc: 0.9988 - val_loss: 0.0349 - val_acc: 0.9886\n",
      "Epoch 27/50\n",
      "60000/60000 [==============================] - 4s 66us/step - loss: 0.0049 - acc: 0.9989 - val_loss: 0.0325 - val_acc: 0.9894\n",
      "Epoch 28/50\n",
      "60000/60000 [==============================] - 4s 69us/step - loss: 0.0043 - acc: 0.9990 - val_loss: 0.0326 - val_acc: 0.9897\n",
      "Epoch 29/50\n",
      "60000/60000 [==============================] - 4s 65us/step - loss: 0.0040 - acc: 0.9991 - val_loss: 0.0335 - val_acc: 0.9897\n",
      "Epoch 30/50\n",
      "60000/60000 [==============================] - 4s 65us/step - loss: 0.0036 - acc: 0.9994 - val_loss: 0.0385 - val_acc: 0.9875\n",
      "Epoch 31/50\n",
      "60000/60000 [==============================] - 4s 65us/step - loss: 0.0033 - acc: 0.9994 - val_loss: 0.0371 - val_acc: 0.9892\n",
      "Epoch 32/50\n",
      "60000/60000 [==============================] - 4s 65us/step - loss: 0.0029 - acc: 0.9995 - val_loss: 0.0366 - val_acc: 0.9893\n",
      "Epoch 33/50\n",
      "60000/60000 [==============================] - 4s 65us/step - loss: 0.0025 - acc: 0.9995 - val_loss: 0.0372 - val_acc: 0.9887\n",
      "Epoch 34/50\n",
      "60000/60000 [==============================] - 4s 65us/step - loss: 0.0024 - acc: 0.9996 - val_loss: 0.0359 - val_acc: 0.9892\n",
      "Epoch 35/50\n",
      "60000/60000 [==============================] - 4s 66us/step - loss: 0.0023 - acc: 0.9996 - val_loss: 0.0368 - val_acc: 0.9878\n",
      "Epoch 36/50\n",
      "60000/60000 [==============================] - 4s 66us/step - loss: 0.0018 - acc: 0.9997 - val_loss: 0.0351 - val_acc: 0.9895\n",
      "Epoch 37/50\n",
      "60000/60000 [==============================] - 4s 65us/step - loss: 0.0017 - acc: 0.9998 - val_loss: 0.0394 - val_acc: 0.9883\n",
      "Epoch 38/50\n",
      "60000/60000 [==============================] - 4s 65us/step - loss: 0.0016 - acc: 0.9997 - val_loss: 0.0349 - val_acc: 0.9902\n",
      "Epoch 39/50\n",
      "60000/60000 [==============================] - 4s 65us/step - loss: 0.0016 - acc: 0.9997 - val_loss: 0.0386 - val_acc: 0.9882\n",
      "Epoch 40/50\n",
      "60000/60000 [==============================] - 4s 65us/step - loss: 0.0014 - acc: 0.9998 - val_loss: 0.0362 - val_acc: 0.9893\n",
      "Epoch 41/50\n",
      "60000/60000 [==============================] - 4s 65us/step - loss: 0.0013 - acc: 0.9998 - val_loss: 0.0362 - val_acc: 0.9895\n",
      "Epoch 42/50\n",
      "60000/60000 [==============================] - 4s 65us/step - loss: 0.0011 - acc: 0.9999 - val_loss: 0.0395 - val_acc: 0.9887\n",
      "Epoch 43/50\n",
      "60000/60000 [==============================] - 4s 65us/step - loss: 8.8901e-04 - acc: 0.9999 - val_loss: 0.0378 - val_acc: 0.9896\n",
      "Epoch 44/50\n",
      "60000/60000 [==============================] - 4s 65us/step - loss: 8.7220e-04 - acc: 0.9999 - val_loss: 0.0365 - val_acc: 0.9898\n",
      "Epoch 45/50\n",
      "60000/60000 [==============================] - 4s 65us/step - loss: 8.3553e-04 - acc: 0.9999 - val_loss: 0.0380 - val_acc: 0.9893\n",
      "Epoch 46/50\n",
      "60000/60000 [==============================] - 4s 66us/step - loss: 7.2697e-04 - acc: 0.9999 - val_loss: 0.0375 - val_acc: 0.9900\n",
      "Epoch 47/50\n",
      "60000/60000 [==============================] - 4s 73us/step - loss: 6.0932e-04 - acc: 1.0000 - val_loss: 0.0378 - val_acc: 0.9895\n",
      "Epoch 48/50\n",
      "60000/60000 [==============================] - 4s 68us/step - loss: 5.7374e-04 - acc: 1.0000 - val_loss: 0.0385 - val_acc: 0.9901\n",
      "Epoch 49/50\n",
      "60000/60000 [==============================] - 4s 64us/step - loss: 5.5445e-04 - acc: 0.9999 - val_loss: 0.0372 - val_acc: 0.9894\n",
      "Epoch 50/50\n",
      "60000/60000 [==============================] - 4s 65us/step - loss: 4.6649e-04 - acc: 1.0000 - val_loss: 0.0375 - val_acc: 0.9896\n"
     ]
    },
    {
     "data": {
      "text/plain": [
       "<keras.callbacks.History at 0x202b7b875f8>"
      ]
     },
     "execution_count": 25,
     "metadata": {},
     "output_type": "execute_result"
    }
   ],
   "source": [
    "model3.fit(x_train, y_train, batch_size=100, epochs=50,verbose=1,validation_data=(x_test,y_test))"
   ]
  },
  {
   "cell_type": "code",
   "execution_count": 26,
   "metadata": {},
   "outputs": [
    {
     "name": "stdout",
     "output_type": "stream",
     "text": [
      "60000/60000 [==============================] - 1s 22us/step\n",
      "Loss: 0.000418\n",
      "準確率: 99.996667\n"
     ]
    }
   ],
   "source": [
    "#訓練資料成績\n",
    "score = model3.evaluate(x_train, y_train, batch_size=100)\n",
    "print(\"Loss: %f\" %score[0])\n",
    "print(\"準確率: %f\" %(score[1]*100))"
   ]
  },
  {
   "cell_type": "code",
   "execution_count": 27,
   "metadata": {},
   "outputs": [
    {
     "name": "stdout",
     "output_type": "stream",
     "text": [
      "10000/10000 [==============================] - 0s 23us/step\n",
      "Loss: 0.037457\n",
      "準確率: 98.960001\n"
     ]
    }
   ],
   "source": [
    "#測試資料成績高達9成9\n",
    "score = model3.evaluate(x_test, y_test, batch_size=100)\n",
    "print(\"Loss: %f\" %score[0])\n",
    "print(\"準確率: %f\" %(score[1]*100))"
   ]
  },
  {
   "cell_type": "markdown",
   "metadata": {},
   "source": [
    "# 結論\n",
    "\n",
    "由於最後的模型我訓練了50次，因此成功達到acc:100%。我不確定在前面做的模型如果訓練那麼多次能不能達到100%。  \n",
    "也因為這樣，我覺得應該還有其他的方法，能夠提高訓練速度，使模型更快能達到100%\n",
    "\n",
    "另外在本次作業中，也能看出使辨識率差異最大的部分在於Loss Function。可以看出在分類問題，crossentropy真的較mse好"
   ]
  },
  {
   "cell_type": "code",
   "execution_count": null,
   "metadata": {},
   "outputs": [],
   "source": []
  }
 ],
 "metadata": {
  "kernelspec": {
   "display_name": "Python 3",
   "language": "python",
   "name": "python3"
  },
  "language_info": {
   "codemirror_mode": {
    "name": "ipython",
    "version": 3
   },
   "file_extension": ".py",
   "mimetype": "text/x-python",
   "name": "python",
   "nbconvert_exporter": "python",
   "pygments_lexer": "ipython3",
   "version": "3.6.5"
  }
 },
 "nbformat": 4,
 "nbformat_minor": 2
}
